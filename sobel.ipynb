import numpy as np
import matplotlib.pyplot as plt
from scipy import ndimage

# Defina a matriz que representa a imagem
imagemMatriz = np.array([
    [0, 0, 0, 0, 0, 0, 0, 0, 0, 0, 0, 0],
    [0, 0, 0, 0, 0, 0, 0, 0, 0, 0, 0, 0],
    [0, 0, 0, 0, 1, 1, 1, 1, 0, 0, 0, 0],
    [0, 0, 0, 1, 1, 1, 1, 1, 1, 0, 0, 0],
    [0, 0, 1, 1, 1, 1, 1, 1, 1, 1, 0, 0],
    [0, 0, 1, 1, 1, 1, 1, 1, 1, 1, 0, 0],
    [0, 0, 1, 1, 1, 1, 1, 1, 1, 1, 0, 0],
    [0, 0, 0, 1, 1, 1, 1, 1, 1, 1, 0, 0],
    [0, 0, 0, 0, 1, 1, 1, 1, 1, 0, 0, 0],
    [0, 0, 0, 0, 0, 1, 1, 1, 0, 0, 0, 0],
    [0, 0, 0, 0, 0, 0, 0, 0, 0, 0, 0, 0],
    [0, 0, 0, 0, 0, 0, 0, 0, 0, 0, 0, 0]
], dtype=np.uint8)

# Aplicar a convolução dos filtros Sobel X e Y
gradiente_x = ndimage.sobel(imagemMatriz, axis=1)
gradiente_y = ndimage.sobel(imagemMatriz, axis=0)

# Calcular a magnitude do gradiente
magnitude = np.sqrt(gradiente_x**2 + gradiente_y**2)

# Exibir as matrizes resultantes
print("Matriz do Gradiente X:")
print(gradiente_x)

print("\nMatriz do Gradiente Y:")
print(gradiente_y)

# Exibir as imagens resultantes usando Matplotlib
plt.figure(figsize=(12, 4))

plt.subplot(131)
plt.imshow(gradiente_x, cmap='gray')
plt.title('Gradiente X')

plt.subplot(132)
plt.imshow(gradiente_y, cmap='gray')
plt.title('Gradiente Y')

plt.subplot(133)
plt.imshow(magnitude, cmap='gray')
plt.title('Magnitude do Gradiente')

plt.show()
